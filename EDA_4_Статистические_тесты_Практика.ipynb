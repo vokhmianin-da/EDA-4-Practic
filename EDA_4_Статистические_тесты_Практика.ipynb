{
 "cells": [
  {
   "cell_type": "markdown",
   "metadata": {
    "id": "yMG_XPwziMUN"
   },
   "source": [
    "# <center> Практика. Статистические тесты в контексте EDA"
   ]
  },
  {
   "cell_type": "markdown",
   "metadata": {
    "id": "EMd2vwh8ihnl"
   },
   "source": [
    "## Постановка задачи\n",
    "\n",
    "HR-агенство изучает тренды на рынке труда в IT. Компания хочет провести исследование на основе данных о зарплатах в сфере Data Science за 2020-2022 годы и получить некоторые выводы.\n",
    "\n",
    "Необходимо выяснить, какие факторы влияют на зарплату специалиста Data Scientist, а также ответить на ключевые вопросы HR-агенства:\n",
    "\n",
    "- Наблюдается ли ежегодный рост зарплат у специалистов Data Scientist?\n",
    "- Как соотносятся зарплаты Data Scientist и Data Engineer в 2022 году?\n",
    "- Как соотносятся зарплаты специалистов Data Scientist в компаниях различный размеров?\n",
    "- Есть ли связь между наличием должностей Data Scientist и Data Engineer и размером компании?\n",
    "\n",
    "Дополнительные исследования:\n",
    "\n",
    "* Есть ли взаимосвязь между размером зарплаты и объемом работы, выполняемой удаленно?  \n",
    "* Есть ли взаимосвязь между размером зарплаты и типом трудоустройства?\n",
    "\n",
    "Примем уровнем значимости равным 0.05 ($\\alpha=0.05$)."
   ]
  },
  {
   "cell_type": "markdown",
   "metadata": {
    "id": "xqjB2nBnNNkc"
   },
   "source": [
    "Данные содержат следующие столбцы:\n",
    "*   *work_year* — год, в котором была выплачена зарплата;\n",
    "*   *experience_level* — опыт работы на этой должности в течение года со следующими возможными значениями:\n",
    "    * EN - Entry-level/Junior;\n",
    "    * MI - Mid-level/Intermediate;\n",
    "    * SE - Senior-level/Expert;\n",
    "    * Executive-level/Director.\n",
    "*   *employment_type* — тип трудоустройства для этой роли:\n",
    "    * PT - неполный рабочий день;\n",
    "    * FT - полный рабочий день;\n",
    "    * CT - контракт;\n",
    "    * FL - фриланс.\n",
    "* *job_title* - роль, в которой соискатель работал в течение года;\n",
    "* *salary* - общая выплаченная валовая сумма заработной платы;\n",
    "* *salary_currency* - валюта выплачиваемой заработной платы в виде кода валюты ISO 4217;\n",
    "* *salary_in_usd* - зарплата в долларах США (валютный курс, деленный на среднее значение курса доллара США за соответствующий год через fxdata.foorilla.com);\n",
    "* *employee_residence* - основная страна проживания сотрудника в течение рабочего года в виде кода страны ISO 3166;\n",
    "* *remote_ratio* - общий объем работы, выполняемой удаленно. Возможные значения:\n",
    "    * 0 - удаленной работы нет (менее 20 %);\n",
    "    * 50 - частично удаленная работа;\n",
    "    * 100 - полностью удаленная работа (более 80 %).\n",
    "* *company_location* - страна главного офиса работодателя или филиала по контракту в виде кода страны ISO 3166;\n",
    "* *company_size* - среднее количество людей, работавших в компании в течение года:\n",
    "    * S - менее 50 сотрудников (небольшая компания);\n",
    "    * M - от 50 до 250 сотрудников (средняя компания);\n",
    "    * L - более 250 сотрудников (крупная компания).\n",
    "\n",
    "Оригинальный датасет: [\"Data Science Job Salaries (kaggle.com)](https://www.kaggle.com/datasets/ruchi798/data-science-job-salaries)"
   ]
  },
  {
   "cell_type": "markdown",
   "metadata": {
    "id": "_XMyOg3cgcN1"
   },
   "source": [
    "## Загрузка данных"
   ]
  },
  {
   "cell_type": "code",
   "execution_count": 1,
   "metadata": {
    "id": "2JjaPf35gyCK"
   },
   "outputs": [],
   "source": [
    "# загружаем необходимые библиотеки\n",
    "import pandas as pd\n",
    "import numpy as np\n",
    "\n",
    "from scipy import stats\n",
    "import statsmodels.api as sm\n",
    "from statsmodels import stats as sms\n",
    "\n",
    "import matplotlib.pyplot as plt\n",
    "import seaborn as sns\n",
    "\n",
    "# делаем визуальную настройку графиков\n",
    "sns.set_theme(\"notebook\") \n",
    "sns.set_palette(\"Set2\") "
   ]
  },
  {
   "cell_type": "markdown",
   "metadata": {
    "id": "OxICgu53sO5Q"
   },
   "source": [
    "Данные были скопированы в Google Drive, они доступны по [Скачать данные](https://lms.skillfactory.ru/asset-v1:SkillFactory+DST-3.0+28FEB2021+type@asset+block@ds_salaries.zip)."
   ]
  },
  {
   "cell_type": "code",
   "execution_count": 2,
   "metadata": {
    "colab": {
     "base_uri": "https://localhost:8080/",
     "height": 206
    },
    "id": "ZPiI902dv11F",
    "outputId": "eccef1b9-a3cc-4144-a9df-a2a020abf30c"
   },
   "outputs": [
    {
     "data": {
      "text/html": [
       "<div>\n",
       "<style scoped>\n",
       "    .dataframe tbody tr th:only-of-type {\n",
       "        vertical-align: middle;\n",
       "    }\n",
       "\n",
       "    .dataframe tbody tr th {\n",
       "        vertical-align: top;\n",
       "    }\n",
       "\n",
       "    .dataframe thead th {\n",
       "        text-align: right;\n",
       "    }\n",
       "</style>\n",
       "<table border=\"1\" class=\"dataframe\">\n",
       "  <thead>\n",
       "    <tr style=\"text-align: right;\">\n",
       "      <th></th>\n",
       "      <th>Unnamed: 0</th>\n",
       "      <th>work_year</th>\n",
       "      <th>experience_level</th>\n",
       "      <th>employment_type</th>\n",
       "      <th>job_title</th>\n",
       "      <th>salary</th>\n",
       "      <th>salary_currency</th>\n",
       "      <th>salary_in_usd</th>\n",
       "      <th>employee_residence</th>\n",
       "      <th>remote_ratio</th>\n",
       "      <th>company_location</th>\n",
       "      <th>company_size</th>\n",
       "    </tr>\n",
       "  </thead>\n",
       "  <tbody>\n",
       "    <tr>\n",
       "      <th>0</th>\n",
       "      <td>0</td>\n",
       "      <td>2020</td>\n",
       "      <td>MI</td>\n",
       "      <td>FT</td>\n",
       "      <td>Data Scientist</td>\n",
       "      <td>70000</td>\n",
       "      <td>EUR</td>\n",
       "      <td>79833</td>\n",
       "      <td>DE</td>\n",
       "      <td>0</td>\n",
       "      <td>DE</td>\n",
       "      <td>L</td>\n",
       "    </tr>\n",
       "    <tr>\n",
       "      <th>1</th>\n",
       "      <td>1</td>\n",
       "      <td>2020</td>\n",
       "      <td>SE</td>\n",
       "      <td>FT</td>\n",
       "      <td>Machine Learning Scientist</td>\n",
       "      <td>260000</td>\n",
       "      <td>USD</td>\n",
       "      <td>260000</td>\n",
       "      <td>JP</td>\n",
       "      <td>0</td>\n",
       "      <td>JP</td>\n",
       "      <td>S</td>\n",
       "    </tr>\n",
       "    <tr>\n",
       "      <th>2</th>\n",
       "      <td>2</td>\n",
       "      <td>2020</td>\n",
       "      <td>SE</td>\n",
       "      <td>FT</td>\n",
       "      <td>Big Data Engineer</td>\n",
       "      <td>85000</td>\n",
       "      <td>GBP</td>\n",
       "      <td>109024</td>\n",
       "      <td>GB</td>\n",
       "      <td>50</td>\n",
       "      <td>GB</td>\n",
       "      <td>M</td>\n",
       "    </tr>\n",
       "    <tr>\n",
       "      <th>3</th>\n",
       "      <td>3</td>\n",
       "      <td>2020</td>\n",
       "      <td>MI</td>\n",
       "      <td>FT</td>\n",
       "      <td>Product Data Analyst</td>\n",
       "      <td>20000</td>\n",
       "      <td>USD</td>\n",
       "      <td>20000</td>\n",
       "      <td>HN</td>\n",
       "      <td>0</td>\n",
       "      <td>HN</td>\n",
       "      <td>S</td>\n",
       "    </tr>\n",
       "    <tr>\n",
       "      <th>4</th>\n",
       "      <td>4</td>\n",
       "      <td>2020</td>\n",
       "      <td>SE</td>\n",
       "      <td>FT</td>\n",
       "      <td>Machine Learning Engineer</td>\n",
       "      <td>150000</td>\n",
       "      <td>USD</td>\n",
       "      <td>150000</td>\n",
       "      <td>US</td>\n",
       "      <td>50</td>\n",
       "      <td>US</td>\n",
       "      <td>L</td>\n",
       "    </tr>\n",
       "  </tbody>\n",
       "</table>\n",
       "</div>"
      ],
      "text/plain": [
       "   Unnamed: 0  work_year experience_level employment_type  \\\n",
       "0           0       2020               MI              FT   \n",
       "1           1       2020               SE              FT   \n",
       "2           2       2020               SE              FT   \n",
       "3           3       2020               MI              FT   \n",
       "4           4       2020               SE              FT   \n",
       "\n",
       "                    job_title  salary salary_currency  salary_in_usd  \\\n",
       "0              Data Scientist   70000             EUR          79833   \n",
       "1  Machine Learning Scientist  260000             USD         260000   \n",
       "2           Big Data Engineer   85000             GBP         109024   \n",
       "3        Product Data Analyst   20000             USD          20000   \n",
       "4   Machine Learning Engineer  150000             USD         150000   \n",
       "\n",
       "  employee_residence  remote_ratio company_location company_size  \n",
       "0                 DE             0               DE            L  \n",
       "1                 JP             0               JP            S  \n",
       "2                 GB            50               GB            M  \n",
       "3                 HN             0               HN            S  \n",
       "4                 US            50               US            L  "
      ]
     },
     "execution_count": 2,
     "metadata": {},
     "output_type": "execute_result"
    }
   ],
   "source": [
    "# загружаем датасет\n",
    "data = pd.read_csv('data/ds_salaries.csv')\n",
    "data.head()"
   ]
  },
  {
   "cell_type": "code",
   "execution_count": 3,
   "metadata": {
    "colab": {
     "base_uri": "https://localhost:8080/"
    },
    "id": "uLEEV6aLomOU",
    "outputId": "23314b21-aa3f-4537-94cb-be776d9427ae"
   },
   "outputs": [
    {
     "name": "stdout",
     "output_type": "stream",
     "text": [
      "Уровень значимости alpha = 0.05\n"
     ]
    }
   ],
   "source": [
    "# задаём уровень значимости\n",
    "alpha = 0.05 \n",
    "print(\"Уровень значимости alpha = {:.2f}\".format(alpha))"
   ]
  },
  {
   "cell_type": "markdown",
   "metadata": {
    "id": "c9QRWWOVfV13"
   },
   "source": [
    "## Описательный анализ данных"
   ]
  },
  {
   "cell_type": "code",
   "execution_count": 4,
   "metadata": {
    "colab": {
     "base_uri": "https://localhost:8080/"
    },
    "id": "zkiOmlAy2XQU",
    "outputId": "88adbac3-0fd7-460c-a368-c40baff97200"
   },
   "outputs": [
    {
     "name": "stdout",
     "output_type": "stream",
     "text": [
      "<class 'pandas.core.frame.DataFrame'>\n",
      "RangeIndex: 607 entries, 0 to 606\n",
      "Data columns (total 12 columns):\n",
      " #   Column              Non-Null Count  Dtype \n",
      "---  ------              --------------  ----- \n",
      " 0   Unnamed: 0          607 non-null    int64 \n",
      " 1   work_year           607 non-null    int64 \n",
      " 2   experience_level    607 non-null    object\n",
      " 3   employment_type     607 non-null    object\n",
      " 4   job_title           607 non-null    object\n",
      " 5   salary              607 non-null    int64 \n",
      " 6   salary_currency     607 non-null    object\n",
      " 7   salary_in_usd       607 non-null    int64 \n",
      " 8   employee_residence  607 non-null    object\n",
      " 9   remote_ratio        607 non-null    int64 \n",
      " 10  company_location    607 non-null    object\n",
      " 11  company_size        607 non-null    object\n",
      "dtypes: int64(5), object(7)\n",
      "memory usage: 57.0+ KB\n"
     ]
    }
   ],
   "source": [
    "data.info()"
   ]
  },
  {
   "cell_type": "markdown",
   "metadata": {
    "id": "2DSvnZuul7Za"
   },
   "source": [
    "В датасете 607 записей (без пропущенных значений)."
   ]
  },
  {
   "cell_type": "markdown",
   "metadata": {},
   "source": [
    "Удалим первый столбец с порядковым номером записи"
   ]
  },
  {
   "cell_type": "code",
   "execution_count": 5,
   "metadata": {},
   "outputs": [
    {
     "name": "stdout",
     "output_type": "stream",
     "text": [
      "<class 'pandas.core.frame.DataFrame'>\n",
      "RangeIndex: 607 entries, 0 to 606\n",
      "Data columns (total 11 columns):\n",
      " #   Column              Non-Null Count  Dtype \n",
      "---  ------              --------------  ----- \n",
      " 0   work_year           607 non-null    int64 \n",
      " 1   experience_level    607 non-null    object\n",
      " 2   employment_type     607 non-null    object\n",
      " 3   job_title           607 non-null    object\n",
      " 4   salary              607 non-null    int64 \n",
      " 5   salary_currency     607 non-null    object\n",
      " 6   salary_in_usd       607 non-null    int64 \n",
      " 7   employee_residence  607 non-null    object\n",
      " 8   remote_ratio        607 non-null    int64 \n",
      " 9   company_location    607 non-null    object\n",
      " 10  company_size        607 non-null    object\n",
      "dtypes: int64(4), object(7)\n",
      "memory usage: 52.3+ KB\n"
     ]
    },
    {
     "data": {
      "text/plain": [
       "None"
      ]
     },
     "metadata": {},
     "output_type": "display_data"
    }
   ],
   "source": [
    "columns_to_frop = data.columns[0]\n",
    "df = data.drop(columns_to_frop,axis=1)\n",
    "display(df.info())"
   ]
  },
  {
   "cell_type": "markdown",
   "metadata": {
    "id": "Xug87trzl7Za"
   },
   "source": [
    "Проверим данные на наличие полных дубликатов:"
   ]
  },
  {
   "cell_type": "code",
   "execution_count": 6,
   "metadata": {
    "colab": {
     "base_uri": "https://localhost:8080/"
    },
    "id": "As_X7I6jl7Za",
    "outputId": "3d3795b3-ab7c-4cc6-ab3d-23a4796a7b5c"
   },
   "outputs": [
    {
     "name": "stdout",
     "output_type": "stream",
     "text": [
      "Количество дубликатов: 42\n",
      "Размер таблицы после удаления дубликатов: (565, 11)\n"
     ]
    }
   ],
   "source": [
    "print('Количество дубликатов: {}'.format(df[df.duplicated()].shape[0]))\n",
    "\n",
    "# Удаляем дубликаты:\n",
    "df = df.drop_duplicates()\n",
    "print('Размер таблицы после удаления дубликатов: {}'.format(df.shape))"
   ]
  },
  {
   "cell_type": "markdown",
   "metadata": {},
   "source": [
    "Удалим неинформативные признаки\n",
    "\n",
    "Поскольку в датасете присутствует размер заработной платы сотрудника в долларах США, признаки salary и salary_currency не несут полезной информации. Удалим их."
   ]
  },
  {
   "cell_type": "code",
   "execution_count": 7,
   "metadata": {},
   "outputs": [
    {
     "data": {
      "text/html": [
       "<div>\n",
       "<style scoped>\n",
       "    .dataframe tbody tr th:only-of-type {\n",
       "        vertical-align: middle;\n",
       "    }\n",
       "\n",
       "    .dataframe tbody tr th {\n",
       "        vertical-align: top;\n",
       "    }\n",
       "\n",
       "    .dataframe thead th {\n",
       "        text-align: right;\n",
       "    }\n",
       "</style>\n",
       "<table border=\"1\" class=\"dataframe\">\n",
       "  <thead>\n",
       "    <tr style=\"text-align: right;\">\n",
       "      <th></th>\n",
       "      <th>work_year</th>\n",
       "      <th>experience_level</th>\n",
       "      <th>employment_type</th>\n",
       "      <th>job_title</th>\n",
       "      <th>salary_in_usd</th>\n",
       "      <th>employee_residence</th>\n",
       "      <th>remote_ratio</th>\n",
       "      <th>company_location</th>\n",
       "      <th>company_size</th>\n",
       "    </tr>\n",
       "  </thead>\n",
       "  <tbody>\n",
       "    <tr>\n",
       "      <th>0</th>\n",
       "      <td>2020</td>\n",
       "      <td>MI</td>\n",
       "      <td>FT</td>\n",
       "      <td>Data Scientist</td>\n",
       "      <td>79833</td>\n",
       "      <td>DE</td>\n",
       "      <td>0</td>\n",
       "      <td>DE</td>\n",
       "      <td>L</td>\n",
       "    </tr>\n",
       "    <tr>\n",
       "      <th>1</th>\n",
       "      <td>2020</td>\n",
       "      <td>SE</td>\n",
       "      <td>FT</td>\n",
       "      <td>Machine Learning Scientist</td>\n",
       "      <td>260000</td>\n",
       "      <td>JP</td>\n",
       "      <td>0</td>\n",
       "      <td>JP</td>\n",
       "      <td>S</td>\n",
       "    </tr>\n",
       "    <tr>\n",
       "      <th>2</th>\n",
       "      <td>2020</td>\n",
       "      <td>SE</td>\n",
       "      <td>FT</td>\n",
       "      <td>Big Data Engineer</td>\n",
       "      <td>109024</td>\n",
       "      <td>GB</td>\n",
       "      <td>50</td>\n",
       "      <td>GB</td>\n",
       "      <td>M</td>\n",
       "    </tr>\n",
       "    <tr>\n",
       "      <th>3</th>\n",
       "      <td>2020</td>\n",
       "      <td>MI</td>\n",
       "      <td>FT</td>\n",
       "      <td>Product Data Analyst</td>\n",
       "      <td>20000</td>\n",
       "      <td>HN</td>\n",
       "      <td>0</td>\n",
       "      <td>HN</td>\n",
       "      <td>S</td>\n",
       "    </tr>\n",
       "    <tr>\n",
       "      <th>4</th>\n",
       "      <td>2020</td>\n",
       "      <td>SE</td>\n",
       "      <td>FT</td>\n",
       "      <td>Machine Learning Engineer</td>\n",
       "      <td>150000</td>\n",
       "      <td>US</td>\n",
       "      <td>50</td>\n",
       "      <td>US</td>\n",
       "      <td>L</td>\n",
       "    </tr>\n",
       "  </tbody>\n",
       "</table>\n",
       "</div>"
      ],
      "text/plain": [
       "   work_year experience_level employment_type                   job_title  \\\n",
       "0       2020               MI              FT              Data Scientist   \n",
       "1       2020               SE              FT  Machine Learning Scientist   \n",
       "2       2020               SE              FT           Big Data Engineer   \n",
       "3       2020               MI              FT        Product Data Analyst   \n",
       "4       2020               SE              FT   Machine Learning Engineer   \n",
       "\n",
       "   salary_in_usd employee_residence  remote_ratio company_location  \\\n",
       "0          79833                 DE             0               DE   \n",
       "1         260000                 JP             0               JP   \n",
       "2         109024                 GB            50               GB   \n",
       "3          20000                 HN             0               HN   \n",
       "4         150000                 US            50               US   \n",
       "\n",
       "  company_size  \n",
       "0            L  \n",
       "1            S  \n",
       "2            M  \n",
       "3            S  \n",
       "4            L  "
      ]
     },
     "metadata": {},
     "output_type": "display_data"
    }
   ],
   "source": [
    "df = df.drop(['salary', 'salary_currency'],axis=1)\n",
    "display(df.head())"
   ]
  },
  {
   "cell_type": "markdown",
   "metadata": {
    "id": "6uAbyderTaNx"
   },
   "source": [
    "### Распределение заработной платы среди всех специалистов датасета"
   ]
  },
  {
   "cell_type": "code",
   "execution_count": 8,
   "metadata": {
    "colab": {
     "base_uri": "https://localhost:8080/",
     "height": 496
    },
    "id": "KX6k6B2NWJ8t",
    "outputId": "523d571d-679e-4926-fe74-dc130c6a1b53"
   },
   "outputs": [
    {
     "data": {
      "image/png": "[encoded data removed]",
      "text/plain": [
       "<Figure size 2000x500 with 2 Axes>"
      ]
     },
     "metadata": {},
     "output_type": "display_data"
    }
   ],
   "source": [
    "fig, axes = plt.subplots(1, 2, figsize=(20, 5))\n",
    "\n",
    "sns.histplot(df['salary_in_usd'], kde=True, ax=axes[0])\n",
    "axes[0].set(xlabel='Зарплата в долларах США', ylabel='Частота')\n",
    "axes[0].set_title('Распределение ЗП среди всех специалистов датасета')\n",
    "axes[0].axvline(df['salary_in_usd'].mean(), color='red', linestyle='--', linewidth=0.8)\n",
    "\n",
    "sns.boxplot(df['salary_in_usd'], ax=axes[1], orient='h', medianprops={\"color\": \"red\", \"linestyle\": '--'})\n",
    "axes[1].set(xlabel='Зарплата в долларах США')\n",
    "axes[1].set_title('Распределение ЗП среди всех специалистов датасета')\n",
    "\n",
    "plt.show()"
   ]
  },
  {
   "cell_type": "code",
   "execution_count": 9,
   "metadata": {
    "colab": {
     "base_uri": "https://localhost:8080/",
     "height": 300
    },
    "id": "h4rqfECm4umv",
    "outputId": "3edbc181-1016-488d-ef8c-6dfc5dbbfee1"
   },
   "outputs": [
    {
     "data": {
      "text/html": [
       "<div>\n",
       "<style scoped>\n",
       "    .dataframe tbody tr th:only-of-type {\n",
       "        vertical-align: middle;\n",
       "    }\n",
       "\n",
       "    .dataframe tbody tr th {\n",
       "        vertical-align: top;\n",
       "    }\n",
       "\n",
       "    .dataframe thead th {\n",
       "        text-align: right;\n",
       "    }\n",
       "</style>\n",
       "<table border=\"1\" class=\"dataframe\">\n",
       "  <thead>\n",
       "    <tr style=\"text-align: right;\">\n",
       "      <th></th>\n",
       "      <th>Размер зарплаты</th>\n",
       "    </tr>\n",
       "  </thead>\n",
       "  <tbody>\n",
       "    <tr>\n",
       "      <th>count</th>\n",
       "      <td>565.00</td>\n",
       "    </tr>\n",
       "    <tr>\n",
       "      <th>mean</th>\n",
       "      <td>110610.34</td>\n",
       "    </tr>\n",
       "    <tr>\n",
       "      <th>std</th>\n",
       "      <td>72280.70</td>\n",
       "    </tr>\n",
       "    <tr>\n",
       "      <th>min</th>\n",
       "      <td>2859.00</td>\n",
       "    </tr>\n",
       "    <tr>\n",
       "      <th>25%</th>\n",
       "      <td>60757.00</td>\n",
       "    </tr>\n",
       "    <tr>\n",
       "      <th>50%</th>\n",
       "      <td>100000.00</td>\n",
       "    </tr>\n",
       "    <tr>\n",
       "      <th>75%</th>\n",
       "      <td>150000.00</td>\n",
       "    </tr>\n",
       "    <tr>\n",
       "      <th>max</th>\n",
       "      <td>600000.00</td>\n",
       "    </tr>\n",
       "  </tbody>\n",
       "</table>\n",
       "</div>"
      ],
      "text/plain": [
       "       Размер зарплаты\n",
       "count           565.00\n",
       "mean         110610.34\n",
       "std           72280.70\n",
       "min            2859.00\n",
       "25%           60757.00\n",
       "50%          100000.00\n",
       "75%          150000.00\n",
       "max          600000.00"
      ]
     },
     "metadata": {},
     "output_type": "display_data"
    }
   ],
   "source": [
    "df_agg = df['salary_in_usd'].describe().round(2).to_frame()\n",
    "df_agg.columns = ['Размер зарплаты']\n",
    "display(df_agg)"
   ]
  },
  {
   "cell_type": "markdown",
   "metadata": {
    "id": "fHrGH7w56m5c"
   },
   "source": [
    "Распределение зарплат отлично от нормального, имеются выбросы."
   ]
  },
  {
   "cell_type": "markdown",
   "metadata": {
    "id": "cFABAmBjTkCo"
   },
   "source": [
    "### Зарплаты в зависимости от года выплат"
   ]
  },
  {
   "cell_type": "code",
   "execution_count": 10,
   "metadata": {
    "colab": {
     "base_uri": "https://localhost:8080/",
     "height": 480
    },
    "id": "a06HKS1bwzsS",
    "outputId": "e4aa3e1a-71d3-4df3-8857-3f9f4342fa18"
   },
   "outputs": [
    {
     "data": {
      "image/png": "[encoded data removed]",
      "text/plain": [
       "<Figure size 1500x500 with 1 Axes>"
      ]
     },
     "metadata": {},
     "output_type": "display_data"
    }
   ],
   "source": [
    "fig, ax = plt.subplots(1, 1, figsize=(15, 5))\n",
    "ax = sns.boxplot(df, x='salary_in_usd', y='work_year', orient='h', medianprops={\"color\": \"red\", \"linestyle\": '--'})\n",
    "ax.set(xlabel='Размер зарплаты', ylabel='Год выплаты')\n",
    "\n",
    "plt.title('Распределение зарплат в зависимости от года выплаты')\n",
    "plt.show()"
   ]
  },
  {
   "cell_type": "code",
   "execution_count": 11,
   "metadata": {
    "colab": {
     "base_uri": "https://localhost:8080/",
     "height": 161
    },
    "id": "yXC_rLMn_fFV",
    "outputId": "f54838b2-b0db-4562-b281-fab9ee61eb59"
   },
   "outputs": [
    {
     "name": "stdout",
     "output_type": "stream",
     "text": [
      "Страховые выплаты в зависимости от пола\n"
     ]
    },
    {
     "data": {
      "text/html": [
       "<div>\n",
       "<style scoped>\n",
       "    .dataframe tbody tr th:only-of-type {\n",
       "        vertical-align: middle;\n",
       "    }\n",
       "\n",
       "    .dataframe tbody tr th {\n",
       "        vertical-align: top;\n",
       "    }\n",
       "\n",
       "    .dataframe thead th {\n",
       "        text-align: right;\n",
       "    }\n",
       "</style>\n",
       "<table border=\"1\" class=\"dataframe\">\n",
       "  <thead>\n",
       "    <tr style=\"text-align: right;\">\n",
       "      <th></th>\n",
       "      <th>count</th>\n",
       "      <th>mean</th>\n",
       "      <th>std</th>\n",
       "      <th>min</th>\n",
       "      <th>25%</th>\n",
       "      <th>50%</th>\n",
       "      <th>75%</th>\n",
       "      <th>max</th>\n",
       "    </tr>\n",
       "    <tr>\n",
       "      <th>work_year</th>\n",
       "      <th></th>\n",
       "      <th></th>\n",
       "      <th></th>\n",
       "      <th></th>\n",
       "      <th></th>\n",
       "      <th></th>\n",
       "      <th></th>\n",
       "      <th></th>\n",
       "    </tr>\n",
       "  </thead>\n",
       "  <tbody>\n",
       "    <tr>\n",
       "      <th>2020</th>\n",
       "      <td>72.0</td>\n",
       "      <td>95813.00</td>\n",
       "      <td>82831.80</td>\n",
       "      <td>5707.0</td>\n",
       "      <td>45724.5</td>\n",
       "      <td>75544.0</td>\n",
       "      <td>115526.0</td>\n",
       "      <td>450000.0</td>\n",
       "    </tr>\n",
       "    <tr>\n",
       "      <th>2021</th>\n",
       "      <td>215.0</td>\n",
       "      <td>99430.41</td>\n",
       "      <td>80304.32</td>\n",
       "      <td>2859.0</td>\n",
       "      <td>50000.0</td>\n",
       "      <td>82528.0</td>\n",
       "      <td>135000.0</td>\n",
       "      <td>600000.0</td>\n",
       "    </tr>\n",
       "    <tr>\n",
       "      <th>2022</th>\n",
       "      <td>278.0</td>\n",
       "      <td>123089.10</td>\n",
       "      <td>59888.93</td>\n",
       "      <td>10000.0</td>\n",
       "      <td>78791.0</td>\n",
       "      <td>120000.0</td>\n",
       "      <td>160000.0</td>\n",
       "      <td>405000.0</td>\n",
       "    </tr>\n",
       "  </tbody>\n",
       "</table>\n",
       "</div>"
      ],
      "text/plain": [
       "           count       mean       std      min      25%       50%       75%  \\\n",
       "work_year                                                                     \n",
       "2020        72.0   95813.00  82831.80   5707.0  45724.5   75544.0  115526.0   \n",
       "2021       215.0   99430.41  80304.32   2859.0  50000.0   82528.0  135000.0   \n",
       "2022       278.0  123089.10  59888.93  10000.0  78791.0  120000.0  160000.0   \n",
       "\n",
       "                max  \n",
       "work_year            \n",
       "2020       450000.0  \n",
       "2021       600000.0  \n",
       "2022       405000.0  "
      ]
     },
     "metadata": {},
     "output_type": "display_data"
    }
   ],
   "source": [
    "df_agg = df.groupby('work_year')['salary_in_usd'].describe().round(2)\n",
    "print('Страховые выплаты в зависимости от пола')\n",
    "display(df_agg)"
   ]
  },
  {
   "cell_type": "markdown",
   "metadata": {
    "id": "QnoG6XTK_fOH"
   },
   "source": [
    "На первый взгляд, зарплаты специалистов Data Science с каждым годом растут. Чтобы убедиться в этом, в следующем разделе мы проведём статистическое тестирование."
   ]
  },
  {
   "cell_type": "markdown",
   "metadata": {
    "id": "crI7PFP0TpDI"
   },
   "source": [
    "### Соотношение зарплат Data Scientist и Data Engineer в 2022 году"
   ]
  },
  {
   "cell_type": "markdown",
   "metadata": {},
   "source": [
    "Выделим специалистов Data Scientist и Data Engineer из общего датасета, введем признак 'ds_or_de', куда распределим данных специалистов независимо от их опыта и конкретной должности."
   ]
  },
  {
   "cell_type": "code",
   "execution_count": 12,
   "metadata": {
    "colab": {
     "base_uri": "https://localhost:8080/",
     "height": 480
    },
    "id": "SkPmlfj7S9BL",
    "outputId": "00283144-aa01-43c9-9ee4-b0a38efc3f84"
   },
   "outputs": [
    {
     "name": "stderr",
     "output_type": "stream",
     "text": [
      "C:\\Users\\user\\AppData\\Local\\Temp\\ipykernel_11100\\3258689792.py:6: SettingWithCopyWarning: \n",
      "A value is trying to be set on a copy of a slice from a DataFrame.\n",
      "Try using .loc[row_indexer,col_indexer] = value instead\n",
      "\n",
      "See the caveats in the documentation: https://pandas.pydata.org/pandas-docs/stable/user_guide/indexing.html#returning-a-view-versus-a-copy\n",
      "  df_ds_and_de['ds_or_de'] = df['job_title'].apply(lambda x: 'Data Scientist' if 'data scientist' in x.lower() else 'Data Engineer')\n"
     ]
    },
    {
     "data": {
      "text/plain": [
       "ds_or_de\n",
       "Data Engineer     80\n",
       "Data Scientist    69\n",
       "Name: ds_or_de, dtype: int64"
      ]
     },
     "metadata": {},
     "output_type": "display_data"
    }
   ],
   "source": [
    "#l1 = list(df['job_title'].unique())\n",
    "#display(l1)\n",
    "# Выделим из выборки только Data Scientist и Data Engineer\n",
    "df_ds_and_de = df[(df['job_title'].str.contains('Data Scientist', case=False) | df['job_title'].str.contains('Data Engineer', case=False))]\n",
    "#display(df_ds_and_de['job_title'].unique())\n",
    "df_ds_and_de['ds_or_de'] = df['job_title'].apply(lambda x: 'Data Scientist' if 'data scientist' in x.lower() else 'Data Engineer')\n",
    "\n",
    "# Ограничим наблюдения 2022-м гдом\n",
    "df_ds_and_de = df_ds_and_de[df_ds_and_de['work_year']==2022]\n",
    "\n",
    "# Удалим исходный столбец\n",
    "df_ds_and_de.drop('job_title', axis=1, inplace=True)\n",
    "display(df_ds_and_de.groupby('ds_or_de')['ds_or_de'].count())"
   ]
  },
  {
   "cell_type": "markdown",
   "metadata": {},
   "source": [
    "Построим график распределения зарплат для данных специалистов."
   ]
  },
  {
   "cell_type": "code",
   "execution_count": 13,
   "metadata": {},
   "outputs": [
    {
     "data": {
      "image/png": "[encoded data removed]",
      "text/plain": [
       "<Figure size 1500x500 with 1 Axes>"
      ]
     },
     "metadata": {},
     "output_type": "display_data"
    }
   ],
   "source": [
    "fig, ax = plt.subplots(1, 1, figsize=(15, 5))\n",
    "ax = sns.boxplot(df_ds_and_de, x='salary_in_usd', y='ds_or_de', orient='h', medianprops={\"color\": \"red\", \"linestyle\": '--'})\n",
    "ax.set(xlabel='Размер зарплаты', ylabel='Специальность')\n",
    "\n",
    "plt.title('Распределение зарплат в зависимости от специальности')\n",
    "plt.show()"
   ]
  },
  {
   "cell_type": "code",
   "execution_count": 14,
   "metadata": {
    "colab": {
     "base_uri": "https://localhost:8080/",
     "height": 161
    },
    "id": "yeXQdZzQS9BL",
    "outputId": "452b6af6-f003-4332-8d79-cffcaa4f8fb8"
   },
   "outputs": [
    {
     "name": "stdout",
     "output_type": "stream",
     "text": [
      "Зарплаты в зависимости от специальности\n"
     ]
    },
    {
     "data": {
      "text/html": [
       "<div>\n",
       "<style scoped>\n",
       "    .dataframe tbody tr th:only-of-type {\n",
       "        vertical-align: middle;\n",
       "    }\n",
       "\n",
       "    .dataframe tbody tr th {\n",
       "        vertical-align: top;\n",
       "    }\n",
       "\n",
       "    .dataframe thead th {\n",
       "        text-align: right;\n",
       "    }\n",
       "</style>\n",
       "<table border=\"1\" class=\"dataframe\">\n",
       "  <thead>\n",
       "    <tr style=\"text-align: right;\">\n",
       "      <th></th>\n",
       "      <th>count</th>\n",
       "      <th>mean</th>\n",
       "      <th>std</th>\n",
       "      <th>min</th>\n",
       "      <th>25%</th>\n",
       "      <th>50%</th>\n",
       "      <th>75%</th>\n",
       "      <th>max</th>\n",
       "    </tr>\n",
       "    <tr>\n",
       "      <th>ds_or_de</th>\n",
       "      <th></th>\n",
       "      <th></th>\n",
       "      <th></th>\n",
       "      <th></th>\n",
       "      <th></th>\n",
       "      <th></th>\n",
       "      <th></th>\n",
       "      <th></th>\n",
       "    </tr>\n",
       "  </thead>\n",
       "  <tbody>\n",
       "    <tr>\n",
       "      <th>Data Engineer</th>\n",
       "      <td>80.0</td>\n",
       "      <td>124570.98</td>\n",
       "      <td>57484.1</td>\n",
       "      <td>25000.0</td>\n",
       "      <td>78526.0</td>\n",
       "      <td>116394.5</td>\n",
       "      <td>160020.0</td>\n",
       "      <td>324000.0</td>\n",
       "    </tr>\n",
       "    <tr>\n",
       "      <th>Data Scientist</th>\n",
       "      <td>69.0</td>\n",
       "      <td>136456.88</td>\n",
       "      <td>62180.7</td>\n",
       "      <td>18442.0</td>\n",
       "      <td>99360.0</td>\n",
       "      <td>138600.0</td>\n",
       "      <td>176000.0</td>\n",
       "      <td>380000.0</td>\n",
       "    </tr>\n",
       "  </tbody>\n",
       "</table>\n",
       "</div>"
      ],
      "text/plain": [
       "                count       mean      std      min      25%       50%  \\\n",
       "ds_or_de                                                                \n",
       "Data Engineer    80.0  124570.98  57484.1  25000.0  78526.0  116394.5   \n",
       "Data Scientist   69.0  136456.88  62180.7  18442.0  99360.0  138600.0   \n",
       "\n",
       "                     75%       max  \n",
       "ds_or_de                            \n",
       "Data Engineer   160020.0  324000.0  \n",
       "Data Scientist  176000.0  380000.0  "
      ]
     },
     "execution_count": 14,
     "metadata": {},
     "output_type": "execute_result"
    }
   ],
   "source": [
    "df_ds_and_de_agg = df_ds_and_de.groupby('ds_or_de')['salary_in_usd'].describe().round(2)\n",
    "print('Зарплаты в зависимости от специальности')\n",
    "df_ds_and_de_agg"
   ]
  },
  {
   "cell_type": "markdown",
   "metadata": {
    "id": "zK_jL2gjS9BL"
   },
   "source": [
    "Зарплаты Data Scientist незначительно превышали зарплаты Data Engineer в 2022 году. Чтобы проверить это, в следующем разделе мы проведём статистические тесты."
   ]
  },
  {
   "cell_type": "markdown",
   "metadata": {
    "id": "y5MHyfPTTshb"
   },
   "source": [
    "### Соотношение зарплат специалистов Data Scientist в компаниях различных размеров"
   ]
  },
  {
   "cell_type": "code",
   "execution_count": 15,
   "metadata": {
    "colab": {
     "base_uri": "https://localhost:8080/",
     "height": 480
    },
    "id": "denXZIElwzvO",
    "outputId": "5101be0d-2e82-4126-ab69-ffc179b1626b"
   },
   "outputs": [
    {
     "data": {
      "image/png": "[encoded data removed]",
      "text/plain": [
       "<Figure size 1500x500 with 1 Axes>"
      ]
     },
     "metadata": {},
     "output_type": "display_data"
    }
   ],
   "source": [
    "fig, ax = plt.subplots(1, 1, figsize=(15, 5))\n",
    "ax = sns.boxplot(df, x='salary_in_usd', y='company_size', orient='h', medianprops={\"color\": \"red\", \"linestyle\": '--'})\n",
    "ax.set(xlabel='Размер зарплаты', ylabel='Размер компании')\n",
    "plt.title('Распределение зарплат по размеру компании')\n",
    "plt.show()"
   ]
  },
  {
   "cell_type": "code",
   "execution_count": 16,
   "metadata": {
    "colab": {
     "base_uri": "https://localhost:8080/",
     "height": 223
    },
    "id": "xfI208tHwz6T",
    "outputId": "af1e6d3f-7417-4633-814a-353507e9104f"
   },
   "outputs": [
    {
     "name": "stdout",
     "output_type": "stream",
     "text": [
      "Зарплаты в зависимости от размера компании\n"
     ]
    },
    {
     "data": {
      "text/html": [
       "<div>\n",
       "<style scoped>\n",
       "    .dataframe tbody tr th:only-of-type {\n",
       "        vertical-align: middle;\n",
       "    }\n",
       "\n",
       "    .dataframe tbody tr th {\n",
       "        vertical-align: top;\n",
       "    }\n",
       "\n",
       "    .dataframe thead th {\n",
       "        text-align: right;\n",
       "    }\n",
       "</style>\n",
       "<table border=\"1\" class=\"dataframe\">\n",
       "  <thead>\n",
       "    <tr style=\"text-align: right;\">\n",
       "      <th></th>\n",
       "      <th>count</th>\n",
       "      <th>mean</th>\n",
       "      <th>std</th>\n",
       "      <th>min</th>\n",
       "      <th>25%</th>\n",
       "      <th>50%</th>\n",
       "      <th>75%</th>\n",
       "      <th>max</th>\n",
       "    </tr>\n",
       "    <tr>\n",
       "      <th>company_size</th>\n",
       "      <th></th>\n",
       "      <th></th>\n",
       "      <th></th>\n",
       "      <th></th>\n",
       "      <th></th>\n",
       "      <th></th>\n",
       "      <th></th>\n",
       "      <th></th>\n",
       "    </tr>\n",
       "  </thead>\n",
       "  <tbody>\n",
       "    <tr>\n",
       "      <th>L</th>\n",
       "      <td>193.0</td>\n",
       "      <td>118213.88</td>\n",
       "      <td>86753.27</td>\n",
       "      <td>5882.0</td>\n",
       "      <td>60000.0</td>\n",
       "      <td>100000.0</td>\n",
       "      <td>153667.00</td>\n",
       "      <td>600000.0</td>\n",
       "    </tr>\n",
       "    <tr>\n",
       "      <th>M</th>\n",
       "      <td>290.0</td>\n",
       "      <td>114807.08</td>\n",
       "      <td>60779.04</td>\n",
       "      <td>4000.0</td>\n",
       "      <td>70821.5</td>\n",
       "      <td>109640.0</td>\n",
       "      <td>150213.75</td>\n",
       "      <td>450000.0</td>\n",
       "    </tr>\n",
       "    <tr>\n",
       "      <th>S</th>\n",
       "      <td>82.0</td>\n",
       "      <td>77872.10</td>\n",
       "      <td>63814.52</td>\n",
       "      <td>2859.0</td>\n",
       "      <td>41816.0</td>\n",
       "      <td>65511.0</td>\n",
       "      <td>100000.00</td>\n",
       "      <td>416000.0</td>\n",
       "    </tr>\n",
       "  </tbody>\n",
       "</table>\n",
       "</div>"
      ],
      "text/plain": [
       "              count       mean       std     min      25%       50%  \\\n",
       "company_size                                                          \n",
       "L             193.0  118213.88  86753.27  5882.0  60000.0  100000.0   \n",
       "M             290.0  114807.08  60779.04  4000.0  70821.5  109640.0   \n",
       "S              82.0   77872.10  63814.52  2859.0  41816.0   65511.0   \n",
       "\n",
       "                    75%       max  \n",
       "company_size                       \n",
       "L             153667.00  600000.0  \n",
       "M             150213.75  450000.0  \n",
       "S             100000.00  416000.0  "
      ]
     },
     "execution_count": 16,
     "metadata": {},
     "output_type": "execute_result"
    }
   ],
   "source": [
    "df_agg = df.groupby('company_size')['salary_in_usd'].describe().round(2)\n",
    "print('Зарплаты в зависимости от размера компании')\n",
    "df_agg"
   ]
  },
  {
   "cell_type": "markdown",
   "metadata": {
    "id": "y_SC_018yS76"
   },
   "source": [
    "Распределения зарплат в компаниях различных размеров отличаются (чем больше компания, тем больше зарплата). Чтобы определить, являются ли эти различия статистически значимыми, в следующем разделе мы проведём статистические тесты."
   ]
  },
  {
   "cell_type": "markdown",
   "metadata": {
    "id": "GlJ2fclcl7Zd"
   },
   "source": [
    "### Связь между наличием должностей Data Scientist и Data Engineer и размером компании"
   ]
  },
  {
   "cell_type": "code",
   "execution_count": 17,
   "metadata": {
    "id": "Uk8459-8l7Zd",
    "outputId": "ec251979-47d0-4b80-8c0a-d4416583b95c"
   },
   "outputs": [
    {
     "data": {
      "image/png": "[encoded data removed]",
      "text/plain": [
       "<Figure size 1500x500 with 1 Axes>"
      ]
     },
     "metadata": {},
     "output_type": "display_data"
    }
   ],
   "source": [
    "fig, ax = plt.subplots(1, 1, figsize=(15, 5))\n",
    "ax = sns.countplot(data=df_ds_and_de, x=df_ds_and_de['ds_or_de'], hue='company_size')\n",
    "ax.set(xlabel='Наличие вакансий', ylabel='Количество')\n",
    "plt.title('Наличие вакансий DE и DS в зависимости от размера компании')\n",
    "plt.show()"
   ]
  },
  {
   "cell_type": "code",
   "execution_count": 18,
   "metadata": {
    "colab": {
     "base_uri": "https://localhost:8080/",
     "height": 480
    },
    "id": "81kAFODPl7Zd",
    "outputId": "3a36537f-39d6-4e12-a1c6-ec986ebdd15f"
   },
   "outputs": [
    {
     "data": {
      "image/png": "[encoded data removed]",
      "text/plain": [
       "<Figure size 640x480 with 2 Axes>"
      ]
     },
     "metadata": {},
     "output_type": "display_data"
    }
   ],
   "source": [
    "cross_tab = pd.crosstab(index=df_ds_and_de['ds_or_de'], columns=df_ds_and_de['company_size'])\n",
    "ax = sns.heatmap(cross_tab, annot=True, linewidth=.5, fmt='.0f', cmap=\"coolwarm\")\n",
    "ax.set(xlabel='Размер компании', ylabel='Наличие должностей')\n",
    "plt.title('Таблица сопряженности')\n",
    "plt.show()"
   ]
  },
  {
   "cell_type": "markdown",
   "metadata": {
    "id": "Z0rsfkQql7Ze"
   },
   "source": [
    "По графикам видно, что размер компании влияет на наличие должностей Data Scientist и Data Engineer. Чтобы проверить это, в следующем разделе мы проведём статистические тесты."
   ]
  },
  {
   "cell_type": "markdown",
   "metadata": {},
   "source": [
    "Связь между размером зарплаты и объемом работы, выполняемой удаленно"
   ]
  },
  {
   "cell_type": "code",
   "execution_count": 19,
   "metadata": {},
   "outputs": [
    {
     "data": {
      "image/png": "[encoded data removed]",
      "text/plain": [
       "<Figure size 1500x500 with 1 Axes>"
      ]
     },
     "metadata": {},
     "output_type": "display_data"
    }
   ],
   "source": [
    "fig, ax = plt.subplots(1, 1, figsize=(15, 5))\n",
    "ax = sns.boxplot(df, x='salary_in_usd', y='remote_ratio', orient='h', medianprops={\"color\": \"red\", \"linestyle\": '--'})\n",
    "ax.set(xlabel='Размер зарплаты', ylabel='Объем удаленной работы')\n",
    "plt.title('Распределение зарплат по объему удаленной работы')\n",
    "plt.show()"
   ]
  },
  {
   "cell_type": "code",
   "execution_count": 20,
   "metadata": {},
   "outputs": [
    {
     "name": "stdout",
     "output_type": "stream",
     "text": [
      "Зарплаты в зависимости от объема удаленной работы\n"
     ]
    },
    {
     "data": {
      "text/html": [
       "<div>\n",
       "<style scoped>\n",
       "    .dataframe tbody tr th:only-of-type {\n",
       "        vertical-align: middle;\n",
       "    }\n",
       "\n",
       "    .dataframe tbody tr th {\n",
       "        vertical-align: top;\n",
       "    }\n",
       "\n",
       "    .dataframe thead th {\n",
       "        text-align: right;\n",
       "    }\n",
       "</style>\n",
       "<table border=\"1\" class=\"dataframe\">\n",
       "  <thead>\n",
       "    <tr style=\"text-align: right;\">\n",
       "      <th></th>\n",
       "      <th>count</th>\n",
       "      <th>mean</th>\n",
       "      <th>std</th>\n",
       "      <th>min</th>\n",
       "      <th>25%</th>\n",
       "      <th>50%</th>\n",
       "      <th>75%</th>\n",
       "      <th>max</th>\n",
       "    </tr>\n",
       "    <tr>\n",
       "      <th>remote_ratio</th>\n",
       "      <th></th>\n",
       "      <th></th>\n",
       "      <th></th>\n",
       "      <th></th>\n",
       "      <th></th>\n",
       "      <th></th>\n",
       "      <th></th>\n",
       "      <th></th>\n",
       "    </tr>\n",
       "  </thead>\n",
       "  <tbody>\n",
       "    <tr>\n",
       "      <th>0</th>\n",
       "      <td>121.0</td>\n",
       "      <td>105785.40</td>\n",
       "      <td>68392.50</td>\n",
       "      <td>2859.0</td>\n",
       "      <td>62000.0</td>\n",
       "      <td>98158.0</td>\n",
       "      <td>136000.00</td>\n",
       "      <td>450000.0</td>\n",
       "    </tr>\n",
       "    <tr>\n",
       "      <th>50</th>\n",
       "      <td>98.0</td>\n",
       "      <td>80721.90</td>\n",
       "      <td>57639.10</td>\n",
       "      <td>5409.0</td>\n",
       "      <td>50000.5</td>\n",
       "      <td>68010.5</td>\n",
       "      <td>99925.75</td>\n",
       "      <td>423000.0</td>\n",
       "    </tr>\n",
       "    <tr>\n",
       "      <th>100</th>\n",
       "      <td>346.0</td>\n",
       "      <td>120763.19</td>\n",
       "      <td>74930.43</td>\n",
       "      <td>4000.0</td>\n",
       "      <td>70000.0</td>\n",
       "      <td>110712.5</td>\n",
       "      <td>159750.00</td>\n",
       "      <td>600000.0</td>\n",
       "    </tr>\n",
       "  </tbody>\n",
       "</table>\n",
       "</div>"
      ],
      "text/plain": [
       "              count       mean       std     min      25%       50%  \\\n",
       "remote_ratio                                                          \n",
       "0             121.0  105785.40  68392.50  2859.0  62000.0   98158.0   \n",
       "50             98.0   80721.90  57639.10  5409.0  50000.5   68010.5   \n",
       "100           346.0  120763.19  74930.43  4000.0  70000.0  110712.5   \n",
       "\n",
       "                    75%       max  \n",
       "remote_ratio                       \n",
       "0             136000.00  450000.0  \n",
       "50             99925.75  423000.0  \n",
       "100           159750.00  600000.0  "
      ]
     },
     "execution_count": 20,
     "metadata": {},
     "output_type": "execute_result"
    }
   ],
   "source": [
    "df_agg = df.groupby('remote_ratio')['salary_in_usd'].describe().round(2)\n",
    "print('Зарплаты в зависимости от объема удаленной работы')\n",
    "df_agg"
   ]
  },
  {
   "cell_type": "markdown",
   "metadata": {},
   "source": [
    "Распределения зарплат в зависимости от объема удаленной работы различаются (для полностью удаленной работы разброс ЗП наибольший, также как и максимальный размер ЗП). Чтобы определить, являются ли эти различия статистически значимыми, в следующем разделе мы проведём статистические тесты."
   ]
  },
  {
   "cell_type": "markdown",
   "metadata": {},
   "source": [
    "Cвязь между размером зарплаты и типом трудоустройства"
   ]
  },
  {
   "cell_type": "code",
   "execution_count": 21,
   "metadata": {},
   "outputs": [
    {
     "data": {
      "image/png": "[encoded data removed]",
      "text/plain": [
       "<Figure size 1500x500 with 1 Axes>"
      ]
     },
     "metadata": {},
     "output_type": "display_data"
    }
   ],
   "source": [
    "fig, ax = plt.subplots(1, 1, figsize=(15, 5))\n",
    "ax = sns.boxplot(df, x='salary_in_usd', y='employment_type', orient='h', medianprops={\"color\": \"red\", \"linestyle\": '--'})\n",
    "ax.set(xlabel='Размер зарплаты', ylabel='Тип трудоустройства')\n",
    "plt.title('Распределение зарплат в разрезе типа трудоустройства')\n",
    "plt.show()"
   ]
  },
  {
   "cell_type": "code",
   "execution_count": 22,
   "metadata": {},
   "outputs": [
    {
     "name": "stdout",
     "output_type": "stream",
     "text": [
      "Зарплаты в зависимости от типа трудоустройства\n"
     ]
    },
    {
     "data": {
      "text/html": [
       "<div>\n",
       "<style scoped>\n",
       "    .dataframe tbody tr th:only-of-type {\n",
       "        vertical-align: middle;\n",
       "    }\n",
       "\n",
       "    .dataframe tbody tr th {\n",
       "        vertical-align: top;\n",
       "    }\n",
       "\n",
       "    .dataframe thead th {\n",
       "        text-align: right;\n",
       "    }\n",
       "</style>\n",
       "<table border=\"1\" class=\"dataframe\">\n",
       "  <thead>\n",
       "    <tr style=\"text-align: right;\">\n",
       "      <th></th>\n",
       "      <th>count</th>\n",
       "      <th>mean</th>\n",
       "      <th>std</th>\n",
       "      <th>min</th>\n",
       "      <th>25%</th>\n",
       "      <th>50%</th>\n",
       "      <th>75%</th>\n",
       "      <th>max</th>\n",
       "    </tr>\n",
       "    <tr>\n",
       "      <th>employment_type</th>\n",
       "      <th></th>\n",
       "      <th></th>\n",
       "      <th></th>\n",
       "      <th></th>\n",
       "      <th></th>\n",
       "      <th></th>\n",
       "      <th></th>\n",
       "      <th></th>\n",
       "    </tr>\n",
       "  </thead>\n",
       "  <tbody>\n",
       "    <tr>\n",
       "      <th>CT</th>\n",
       "      <td>5.0</td>\n",
       "      <td>184575.00</td>\n",
       "      <td>156250.89</td>\n",
       "      <td>31875.0</td>\n",
       "      <td>100000.0</td>\n",
       "      <td>105000.0</td>\n",
       "      <td>270000.0</td>\n",
       "      <td>416000.0</td>\n",
       "    </tr>\n",
       "    <tr>\n",
       "      <th>FL</th>\n",
       "      <td>4.0</td>\n",
       "      <td>48000.00</td>\n",
       "      <td>40529.82</td>\n",
       "      <td>12000.0</td>\n",
       "      <td>18000.0</td>\n",
       "      <td>40000.0</td>\n",
       "      <td>70000.0</td>\n",
       "      <td>100000.0</td>\n",
       "    </tr>\n",
       "    <tr>\n",
       "      <th>FT</th>\n",
       "      <td>546.0</td>\n",
       "      <td>111811.84</td>\n",
       "      <td>70790.70</td>\n",
       "      <td>2859.0</td>\n",
       "      <td>62726.0</td>\n",
       "      <td>100000.0</td>\n",
       "      <td>150000.0</td>\n",
       "      <td>600000.0</td>\n",
       "    </tr>\n",
       "    <tr>\n",
       "      <th>PT</th>\n",
       "      <td>10.0</td>\n",
       "      <td>33070.50</td>\n",
       "      <td>31472.91</td>\n",
       "      <td>5409.0</td>\n",
       "      <td>12000.0</td>\n",
       "      <td>18817.5</td>\n",
       "      <td>48370.0</td>\n",
       "      <td>100000.0</td>\n",
       "    </tr>\n",
       "  </tbody>\n",
       "</table>\n",
       "</div>"
      ],
      "text/plain": [
       "                 count       mean        std      min       25%       50%  \\\n",
       "employment_type                                                             \n",
       "CT                 5.0  184575.00  156250.89  31875.0  100000.0  105000.0   \n",
       "FL                 4.0   48000.00   40529.82  12000.0   18000.0   40000.0   \n",
       "FT               546.0  111811.84   70790.70   2859.0   62726.0  100000.0   \n",
       "PT                10.0   33070.50   31472.91   5409.0   12000.0   18817.5   \n",
       "\n",
       "                      75%       max  \n",
       "employment_type                      \n",
       "CT               270000.0  416000.0  \n",
       "FL                70000.0  100000.0  \n",
       "FT               150000.0  600000.0  \n",
       "PT                48370.0  100000.0  "
      ]
     },
     "execution_count": 22,
     "metadata": {},
     "output_type": "execute_result"
    }
   ],
   "source": [
    "df_agg = df.groupby('employment_type')['salary_in_usd'].describe().round(2)\n",
    "print('Зарплаты в зависимости от типа трудоустройства')\n",
    "df_agg"
   ]
  },
  {
   "cell_type": "markdown",
   "metadata": {},
   "source": [
    "Распределения зарплат в зависимости от типа трудоустройства значительно различаются (для контрактной работы ожидаемо самый большой разброс ЗП и наибольший размер ЗП). Чтобы определить, являются ли эти различия статистически значимыми, в следующем разделе мы проведём статистические тесты."
   ]
  },
  {
   "cell_type": "markdown",
   "metadata": {
    "id": "-UcttLBPfd8-"
   },
   "source": [
    "## Статистический анализ данных\n",
    "\n"
   ]
  },
  {
   "cell_type": "code",
   "execution_count": 23,
   "metadata": {
    "id": "sn3PGE23l7Ze"
   },
   "outputs": [],
   "source": [
    "# функция для принятия решения о нормальности\n",
    "def decision_normality(p):\n",
    "    print('p-value = {:.3f}'.format(p))\n",
    "    if p <= alpha:\n",
    "        print('p-значение меньше, чем заданный уровень значимости {:.2f}. Распределение отлично от нормального'.format(alpha))\n",
    "    else:\n",
    "        print('p-значение больше, чем заданный уровень значимости {:.2f}. Распределение является нормальным'.format(alpha))\n",
    "\n",
    "\n",
    "# функция для принятия решения об отклонении нулевой гипотезы\n",
    "def decision_hypothesis(p):\n",
    "    print('p-value = {:.3f}'.format(p))\n",
    "    if p <= alpha:\n",
    "        print('p-значение меньше, чем заданный уровень значимости {:.2f}. Отвергаем нулевую гипотезу в пользу альтернативной.'.format(alpha))\n",
    "    else:\n",
    "        print('p-значение больше, чем заданный уровень значимости {:.2f}. У нас нет оснований отвергнуть нулевую гипотезу.'.format(alpha))\n",
    "      "
   ]
  },
  {
   "cell_type": "markdown",
   "metadata": {
    "id": "zxbl3BYLGKIW"
   },
   "source": [
    "### Наблюдается ли ежегодный рост зарплат у специалистов Data Scientist?\n",
    "\n",
    "**Сформулируем нулевую и альтернативные гипотезы**\n",
    "\n",
    "*Нулевая гипотеза* ($H_0$): размер зарплат у специалистов Data Scientist не отличается в разные годы: 2020 ($μ_1$), 2021 ($μ_2$), 2022 ($μ_3$).\n",
    "\n",
    "$$ H_0 : μ_1 = μ_2 = μ_3$$\n",
    "\n",
    "*Альтернативная гипотеза*: размер зарплат у специалистов Data Scientist отличается в разные годы: 2020 ($μ_1$), 2021 ($μ_2$), 2022 ($μ_3$).\n",
    "\n",
    "$$ H_1 : μ_1 \\neq μ_2 \\neq μ_3$$\n",
    "\n"
   ]
  },
  {
   "cell_type": "markdown",
   "metadata": {
    "id": "Yi8l7ZWSl7Ze"
   },
   "source": [
    "**Проверка на нормальность**\n",
    "\n",
    "С помощью теста Шапиро-Уилка проверим, распределён ли признак нормально. Напомним гипотезы теста Шапиро-Уилка:\n",
    "\n",
    "*Нулевая гипотеза* ($H_0$): распределение данные является нормальным.\n",
    "\n",
    "*Альтернативная гипотеза* ($H_1$): распределение данных отлично от нормального."
   ]
  },
  {
   "cell_type": "code",
   "execution_count": 24,
   "metadata": {
    "colab": {
     "base_uri": "https://localhost:8080/"
    },
    "id": "bCxAGItPTHRe",
    "outputId": "334716f4-96c7-4a21-ca5f-c7d352adde2b"
   },
   "outputs": [
    {
     "name": "stdout",
     "output_type": "stream",
     "text": [
      "Для 2020 года:\n",
      "p-value = 0.000\n",
      "p-значение меньше, чем заданный уровень значимости 0.05. Распределение отлично от нормального\n",
      "Для 2021 года:\n",
      "p-value = 0.000\n",
      "p-значение меньше, чем заданный уровень значимости 0.05. Распределение отлично от нормального\n",
      "Для 2022 года:\n",
      "p-value = 0.000\n",
      "p-значение меньше, чем заданный уровень значимости 0.05. Распределение отлично от нормального\n"
     ]
    }
   ],
   "source": [
    "# значения зарплат по годам\n",
    "salary_2020 = df.loc[data['work_year']==2020, 'salary_in_usd']\n",
    "salary_2021 = df.loc[data['work_year']==2021, 'salary_in_usd']\n",
    "salary_2022 = df.loc[data['work_year']==2022, 'salary_in_usd']\n",
    "\n",
    "#display(salary_2020)\n",
    "\n",
    "# проводим тест Шапиро-Уилка\n",
    "print('Для 2020 года:')\n",
    "result = stats.shapiro(salary_2020)\n",
    "decision_normality(result[1])\n",
    "\n",
    "print('Для 2021 года:')\n",
    "result = stats.shapiro(salary_2021)\n",
    "decision_normality(result[1])\n",
    "\n",
    "print('Для 2022 года:')\n",
    "result = stats.shapiro(salary_2022)\n",
    "decision_normality(result[1])"
   ]
  },
  {
   "cell_type": "markdown",
   "metadata": {
    "id": "IBOYMwmfTHRu"
   },
   "source": [
    "**Выберем подходящий статистический тест**\n",
    "\n",
    "Для выбора нужного теста воспользуемся алгоритмом выбора теста. Для этого ответим на следующие вопросы:\n",
    "* Какой тип у признака «Зарплата в долларах США»? — Количественный.\n",
    "* Сколько сравниваемых групп? — Три.\n",
    "* Группы зависимы? — Нет.\n",
    "* Признак распределён по нормальному закону? — Нет.\n",
    "\n",
    "Чтобы проверить нашу гипотезу, можно использовать критерий Краскела — Уоллиса (однофакторный дисперсионный анализ на рангах).\n",
    "\n",
    "**Проведём тест**"
   ]
  },
  {
   "cell_type": "code",
   "execution_count": 25,
   "metadata": {
    "colab": {
     "base_uri": "https://localhost:8080/"
    },
    "id": "xaQuaMV8THRu",
    "outputId": "0e37fc3b-bd2e-4166-8d52-f373fd82c672"
   },
   "outputs": [
    {
     "name": "stdout",
     "output_type": "stream",
     "text": [
      "p-value = 0.000\n",
      "p-значение меньше, чем заданный уровень значимости 0.05. Отвергаем нулевую гипотезу в пользу альтернативной.\n"
     ]
    }
   ],
   "source": [
    "# проводим тест\n",
    "_, p = stats.kruskal(salary_2020, salary_2021, salary_2022)\n",
    "decision_hypothesis(p)"
   ]
  },
  {
   "cell_type": "markdown",
   "metadata": {
    "id": "aZEt9hu-Q995"
   },
   "source": [
    "**Вывод**\n",
    "\n",
    "Тест подтверждает изменения зарплат специалистов Data Science с течением времени."
   ]
  },
  {
   "cell_type": "markdown",
   "metadata": {
    "id": "JW47VJo3Q99s"
   },
   "source": [
    "### Как соотносятся зарплаты Data Scientist и Data Engineer в 2022 году?\n",
    "\n",
    "\n",
    "**Сформулируем нулевую и альтернативные гипотезы**\n",
    "\n",
    "*Нулевая гипотеза* ($H_0$): размер зарплат Data Scientist ($μ_1$) статистически меньше либо равен размеру зарплат Data Engineer ($μ_2$).\n",
    "\n",
    "$$ H_0 : μ_1 \\leq μ_2$$\n",
    "\n",
    "*Альтернативная гипотеза* ($H_1$): размер зарплат Data Scientist ($μ_1$) статистически больше размера зарплат Data Engineer ($μ_2$).\n",
    "$$ H_1 : μ_1 > μ_2$$\n",
    "\n",
    "\n"
   ]
  },
  {
   "cell_type": "markdown",
   "metadata": {
    "id": "kMk6Q5sRl7Zf"
   },
   "source": [
    "**Проверка на нормальность**\n",
    "\n",
    "С помощью теста Шапиро-Уилка проверим, распределён ли признак нормально."
   ]
  },
  {
   "cell_type": "code",
   "execution_count": 26,
   "metadata": {
    "colab": {
     "base_uri": "https://localhost:8080/"
    },
    "id": "JxXzC7-_RNDj",
    "outputId": "6e4c2c71-7d7d-4510-883c-8a52b5f64149"
   },
   "outputs": [
    {
     "name": "stdout",
     "output_type": "stream",
     "text": [
      "Для Data Scientist:\n",
      "p-value = 0.023\n",
      "p-значение меньше, чем заданный уровень значимости 0.05. Распределение отлично от нормального\n",
      "Для Data Engineer:\n",
      "p-value = 0.007\n",
      "p-значение меньше, чем заданный уровень значимости 0.05. Распределение отлично от нормального\n"
     ]
    }
   ],
   "source": [
    "# значения зарплат DS и DE\n",
    "salary_ds = df_ds_and_de.loc[df_ds_and_de['ds_or_de']=='Data Scientist', 'salary_in_usd']\n",
    "salary_de = df_ds_and_de.loc[df_ds_and_de['ds_or_de']=='Data Engineer', 'salary_in_usd']\n",
    "\n",
    "#display(salary_ds.count())\n",
    "#display(salary_de.count())\n",
    "\n",
    "# проводим тест Шапиро-Уилка\n",
    "print('Для Data Scientist:')\n",
    "result = stats.shapiro(salary_ds)\n",
    "decision_normality(result[1])\n",
    "\n",
    "print('Для Data Engineer:')\n",
    "result = stats.shapiro(salary_de)\n",
    "decision_normality(result[1])"
   ]
  },
  {
   "cell_type": "markdown",
   "metadata": {
    "id": "gKIiBvTMRNDk"
   },
   "source": [
    "**Выберем подходящий статистический тест**\n",
    "\n",
    "Для выбора нужного теста воспользуемся алгоритмом выбора теста. Для этого ответим на следующие вопросы:\n",
    "* Какой тип у признака «Зарплата в долларах США»? — Количественный.\n",
    "* Сколько сравниваемых групп? — Две.\n",
    "* Группы зависимы? — Нет.\n",
    "* Признак распределён по нормальному закону? — Нет.\n",
    "\n",
    "Для проверки нашей гипотезы можно использовать U-критерий Манна — Уитни.\n",
    "\n",
    "**Проведём тест**\n"
   ]
  },
  {
   "cell_type": "code",
   "execution_count": 27,
   "metadata": {
    "colab": {
     "base_uri": "https://localhost:8080/"
    },
    "id": "93N51wSsRNDk",
    "outputId": "0df1775e-94ad-41b1-d7fc-4d91335fc590"
   },
   "outputs": [
    {
     "name": "stdout",
     "output_type": "stream",
     "text": [
      "p-value = 0.084\n",
      "p-значение больше, чем заданный уровень значимости 0.05. У нас нет оснований отвергнуть нулевую гипотезу.\n"
     ]
    }
   ],
   "source": [
    "# проводим тест\n",
    "_, p = stats.mannwhitneyu(salary_ds, salary_de, alternative='greater')\n",
    "decision_hypothesis(p)"
   ]
  },
  {
   "cell_type": "markdown",
   "metadata": {
    "id": "yZogeviaRNDk"
   },
   "source": [
    "**Вывод**\n",
    "\n",
    "Статистический тест показал, что у нас нет оснований отвергнуть нулевую гипотезу. Зарплаты Data Scientist не превышают зарплаты Data Engineer в 2022 году."
   ]
  },
  {
   "cell_type": "markdown",
   "metadata": {
    "id": "ByITCYyXGKb4"
   },
   "source": [
    "### Как соотносятся зарплаты специалистов Data Scientist в компаниях различных размеров?\n",
    "\n",
    "**Сформулируем нулевую и альтернативные гипотезы**\n",
    "\n",
    "*Нулевая гипотеза*: размер зарплат специалистов Data Scientist не отличается в компаниях разных размеров: S ($μ_1$), M ($μ_2$), L ($μ_3$).\n",
    "\n",
    "$$ H_0 : μ_1 = μ_2 = μ_3$$\n",
    "\n",
    "*Альтернативная гипотеза*: размер зарплат специалистов Data Scientist отличается в компаниях разных размеров: S ($μ_1$), M ($μ_2$), L ($μ_3$).\n",
    "\n",
    "$$ H_1 : μ_1 \\neq μ_2 \\neq μ_3$$\n",
    "\n"
   ]
  },
  {
   "cell_type": "markdown",
   "metadata": {
    "id": "dPXLUo31l7Zg"
   },
   "source": [
    "**Проверка на нормальность**\n",
    "\n",
    "С помощью теста Шапиро-Уилка проверим, распределён ли признак нормально."
   ]
  },
  {
   "cell_type": "code",
   "execution_count": 28,
   "metadata": {
    "colab": {
     "base_uri": "https://localhost:8080/"
    },
    "id": "0g8PmvdlGKmP",
    "outputId": "48892466-4da7-4a58-c414-d3af794b053d"
   },
   "outputs": [
    {
     "name": "stdout",
     "output_type": "stream",
     "text": [
      "Для маленьких (S) компаний:\n",
      "p-value = 0.000\n",
      "p-значение меньше, чем заданный уровень значимости 0.05. Распределение отлично от нормального\n",
      "Для средних (M) компаний:\n",
      "p-value = 0.000\n",
      "p-значение меньше, чем заданный уровень значимости 0.05. Распределение отлично от нормального\n",
      "Для больших (L) компаний:\n",
      "p-value = 0.000\n",
      "p-значение меньше, чем заданный уровень значимости 0.05. Распределение отлично от нормального\n"
     ]
    }
   ],
   "source": [
    "# значения зарплат в разных компаниях\n",
    "df_company_s = df.loc[data['company_size']=='S', 'salary_in_usd']\n",
    "df_company_m = df.loc[data['company_size']=='M', 'salary_in_usd']\n",
    "df_company_l = df.loc[data['company_size']=='L', 'salary_in_usd']\n",
    "\n",
    "#display(df_company_s.count(), df_company_m.count(), df_company_l.count())\n",
    "\n",
    "# проводим тест Шапиро-Уилка\n",
    "print('Для маленьких (S) компаний:')\n",
    "result = stats.shapiro(df_company_s)\n",
    "decision_normality(result[1])\n",
    "\n",
    "print('Для средних (M) компаний:')\n",
    "result = stats.shapiro(df_company_m)\n",
    "decision_normality(result[1])\n",
    "\n",
    "print('Для больших (L) компаний:')\n",
    "result = stats.shapiro(df_company_l)\n",
    "decision_normality(result[1])\n"
   ]
  },
  {
   "cell_type": "markdown",
   "metadata": {
    "id": "FPq2KNq4dbWj"
   },
   "source": [
    "**Выберем подходящий статистический тест**\n",
    "\n",
    "Для выбора нужного теста воспользуемся алгоритмом выбора теста. Для этого ответим на следующие вопросы:\n",
    "* Какой тип у признака «Зарплата в долларах США»? — Количественный.\n",
    "* Сколько сравниваемых групп? — Три.\n",
    "* Группы зависимы? — Нет.\n",
    "* Признак распределён по нормальному закону? — Нет. \n",
    "\n",
    "Для проверки нашей гипотезы можно использовать критерий Краскела — Уоллиса.\n",
    "\n",
    "**Проведём тест**"
   ]
  },
  {
   "cell_type": "code",
   "execution_count": 29,
   "metadata": {
    "colab": {
     "base_uri": "https://localhost:8080/"
    },
    "id": "ZIJjzAQxfnsp",
    "outputId": "11a9cf62-98d8-4de3-9cec-1c040577ac51"
   },
   "outputs": [
    {
     "name": "stdout",
     "output_type": "stream",
     "text": [
      "p-value = 0.000\n",
      "p-значение меньше, чем заданный уровень значимости 0.05. Отвергаем нулевую гипотезу в пользу альтернативной.\n"
     ]
    }
   ],
   "source": [
    "# проводим тест\n",
    "_, p = stats.kruskal(df_company_s, df_company_m, df_company_l)\n",
    "decision_hypothesis(p)"
   ]
  },
  {
   "cell_type": "markdown",
   "metadata": {
    "id": "TESdSdapPblj"
   },
   "source": [
    "**Вывод**\n",
    "\n",
    "Статистический тест показал, что размер компании влияет на зарплату специалистов Data Science."
   ]
  },
  {
   "cell_type": "markdown",
   "metadata": {
    "id": "C_BzXnR7l7Zh"
   },
   "source": [
    "### Есть ли связь между наличием должностей Data Scientist и Data Engineer и размером компании?"
   ]
  },
  {
   "cell_type": "markdown",
   "metadata": {
    "id": "nTL6_EGyl7Zh"
   },
   "source": [
    "**Сформулируем нулевую и альтернативные гипотезы**\n",
    "\n",
    "*Нулевая гипотеза*: между размером компании и наличием должностей Data Scientist и Data Engineer нет взаимосвязи (признаки независимы).\n",
    "\n",
    "*Альтернативная гипотеза*: между размером компании и наличием должностей Data Scientist и Data Engineer есть взаимосвязь (признаки зависимы).\n"
   ]
  },
  {
   "cell_type": "markdown",
   "metadata": {
    "id": "JBDWUoufl7Zh"
   },
   "source": [
    "**Выберем подходящий статистический тест**\n",
    "\n",
    "Для выбора нужного теста воспользуемся алгоритмом выбора теста. Для этого ответим на следующие вопросы:\n",
    "* Какой тип у признака «Пол»? — Категориальный.\n",
    "* Сколько сравниваемых групп? — Три.\n",
    "* Проверяется независимость групп? — Да.\n",
    "\n",
    "Для проверки нашей гипотезы можно использовать критерий ${\\chi}^2$ (хи-квадрат).\n",
    "\n",
    "**Проведём тест**"
   ]
  },
  {
   "cell_type": "code",
   "execution_count": 30,
   "metadata": {
    "colab": {
     "base_uri": "https://localhost:8080/",
     "height": 143
    },
    "id": "Hs4I-87_l7Zh",
    "outputId": "3c863879-9c55-497e-de9e-16dff9c07675"
   },
   "outputs": [
    {
     "data": {
      "text/html": [
       "<div>\n",
       "<style scoped>\n",
       "    .dataframe tbody tr th:only-of-type {\n",
       "        vertical-align: middle;\n",
       "    }\n",
       "\n",
       "    .dataframe tbody tr th {\n",
       "        vertical-align: top;\n",
       "    }\n",
       "\n",
       "    .dataframe thead th {\n",
       "        text-align: right;\n",
       "    }\n",
       "</style>\n",
       "<table border=\"1\" class=\"dataframe\">\n",
       "  <thead>\n",
       "    <tr style=\"text-align: right;\">\n",
       "      <th>company_size</th>\n",
       "      <th>L</th>\n",
       "      <th>M</th>\n",
       "      <th>S</th>\n",
       "    </tr>\n",
       "    <tr>\n",
       "      <th>ds_or_de</th>\n",
       "      <th></th>\n",
       "      <th></th>\n",
       "      <th></th>\n",
       "    </tr>\n",
       "  </thead>\n",
       "  <tbody>\n",
       "    <tr>\n",
       "      <th>Data Engineer</th>\n",
       "      <td>7</td>\n",
       "      <td>71</td>\n",
       "      <td>2</td>\n",
       "    </tr>\n",
       "    <tr>\n",
       "      <th>Data Scientist</th>\n",
       "      <td>16</td>\n",
       "      <td>52</td>\n",
       "      <td>1</td>\n",
       "    </tr>\n",
       "  </tbody>\n",
       "</table>\n",
       "</div>"
      ],
      "text/plain": [
       "company_size     L   M  S\n",
       "ds_or_de                 \n",
       "Data Engineer    7  71  2\n",
       "Data Scientist  16  52  1"
      ]
     },
     "metadata": {},
     "output_type": "display_data"
    }
   ],
   "source": [
    "# составляем таблицу сопряжённости\n",
    "cross_table = pd.crosstab(index=df_ds_and_de['ds_or_de'], columns=df_ds_and_de['company_size'])\n",
    "\n",
    "display(cross_table)"
   ]
  },
  {
   "cell_type": "code",
   "execution_count": 31,
   "metadata": {
    "colab": {
     "base_uri": "https://localhost:8080/"
    },
    "id": "QluLlU6Kl7Zh",
    "outputId": "93379b4f-594d-45a6-8283-733c181331fd"
   },
   "outputs": [
    {
     "name": "stdout",
     "output_type": "stream",
     "text": [
      "p-value = 0.050\n",
      "p-значение меньше, чем заданный уровень значимости 0.05. Отвергаем нулевую гипотезу в пользу альтернативной.\n"
     ]
    }
   ],
   "source": [
    "# проводим тест\n",
    "_, p, _, _ = stats.chi2_contingency(cross_table)\n",
    "decision_hypothesis(p)"
   ]
  },
  {
   "cell_type": "markdown",
   "metadata": {
    "id": "iX8a9h8Dl7Zh"
   },
   "source": [
    "**Вывод**\n",
    "\n",
    "Существует статистически значимая взаимосвязь наличием должностей Data Scientist и Data Engineer и размером компании."
   ]
  },
  {
   "cell_type": "markdown",
   "metadata": {},
   "source": [
    "### Есть ли взаимосвязь между размером зарплаты и объемом работы, выполняемой удаленно?"
   ]
  },
  {
   "cell_type": "markdown",
   "metadata": {},
   "source": [
    "**Сформулируем нулевую и альтернативные гипотезы**\n",
    "\n",
    "*Нулевая гипотеза*: размер зарплат специалистов Data Scientist не отличается в зависимости от объема работы, выполняемой удаленно: нет удаленной работы ($μ_1$), частично удаленная работа ($μ_2$), полностью удаленная работа ($μ_3$).\n",
    "\n",
    "$$ H_0 : μ_1 = μ_2 = μ_3$$\n",
    "\n",
    "*Альтернативная гипотеза*: размер зарплат специалистов Data Scientist отличается в зависимости от объема работы, выполняемой удаленно: нет удаленной работы ($μ_1$), частично удаленная работа ($μ_2$), полностью удаленная работа ($μ_3$).\n",
    "\n",
    "$$ H_1 : μ_1 \\neq μ_2 \\neq μ_3$$"
   ]
  },
  {
   "cell_type": "markdown",
   "metadata": {},
   "source": [
    "**Проверка на нормальность**\n",
    "\n",
    "С помощью теста Шапиро-Уилка проверим, распределён ли признак нормально."
   ]
  },
  {
   "cell_type": "code",
   "execution_count": 32,
   "metadata": {},
   "outputs": [
    {
     "name": "stdout",
     "output_type": "stream",
     "text": [
      "Без удаленной работы:\n",
      "p-value = 0.000\n",
      "p-значение меньше, чем заданный уровень значимости 0.05. Распределение отлично от нормального\n",
      "Для частично удаленной:\n",
      "p-value = 0.000\n",
      "p-значение меньше, чем заданный уровень значимости 0.05. Распределение отлично от нормального\n",
      "Для полностью удаленной:\n",
      "p-value = 0.000\n",
      "p-значение меньше, чем заданный уровень значимости 0.05. Распределение отлично от нормального\n"
     ]
    }
   ],
   "source": [
    "# значения зарплат в зависимости от объема удаленной работы\n",
    "salary_remote_ratio_0 = df.loc[data['remote_ratio']==0, 'salary_in_usd']\n",
    "salary_remote_ratio_50 = df.loc[data['remote_ratio']==50, 'salary_in_usd']\n",
    "salary_remote_ratio_100 = df.loc[data['remote_ratio']==100, 'salary_in_usd']\n",
    "\n",
    "#display(salary_remote_ratio_0)\n",
    "\n",
    "# проводим тест Шапиро-Уилка\n",
    "print('Без удаленной работы:')\n",
    "result = stats.shapiro(salary_remote_ratio_0)\n",
    "decision_normality(result[1])\n",
    "\n",
    "print('Для частично удаленной:')\n",
    "result = stats.shapiro(salary_remote_ratio_50)\n",
    "decision_normality(result[1])\n",
    "\n",
    "print('Для полностью удаленной:')\n",
    "result = stats.shapiro(salary_remote_ratio_100)\n",
    "decision_normality(result[1])"
   ]
  },
  {
   "cell_type": "markdown",
   "metadata": {},
   "source": [
    "**Выберем подходящий статистический тест**\n",
    "\n",
    "Для выбора нужного теста воспользуемся алгоритмом выбора теста. Для этого ответим на следующие вопросы:\n",
    "* Какой тип у признака «Зарплата в долларах США»? — Количественный.\n",
    "* Сколько сравниваемых групп? — Три.\n",
    "* Группы зависимы? — Нет.\n",
    "* Признак распределён по нормальному закону? — Нет. \n",
    "\n",
    "Для проверки нашей гипотезы можно использовать критерий Краскела — Уоллиса.\n",
    "\n",
    "**Проведём тест**"
   ]
  },
  {
   "cell_type": "code",
   "execution_count": 33,
   "metadata": {},
   "outputs": [
    {
     "name": "stdout",
     "output_type": "stream",
     "text": [
      "p-value = 0.000\n",
      "p-значение меньше, чем заданный уровень значимости 0.05. Отвергаем нулевую гипотезу в пользу альтернативной.\n"
     ]
    }
   ],
   "source": [
    "# проводим тест\n",
    "_, p = stats.kruskal(salary_remote_ratio_0, salary_remote_ratio_50, salary_remote_ratio_100)\n",
    "decision_hypothesis(p)"
   ]
  },
  {
   "cell_type": "markdown",
   "metadata": {},
   "source": [
    "**Вывод**\n",
    "\n",
    "Статистический тест показал, что объем работы, выполняемой удаленно, влияет на зарплату специалистов Data Science."
   ]
  },
  {
   "cell_type": "markdown",
   "metadata": {},
   "source": [
    "### Есть ли взаимосвязь между размером зарплаты и типом трудоустройства?"
   ]
  },
  {
   "cell_type": "markdown",
   "metadata": {},
   "source": [
    "**Сформулируем нулевую и альтернативные гипотезы**\n",
    "\n",
    "*Нулевая гипотеза*: размер зарплат специалистов Data Scientist не отличается в зависимости от типа трудоустройства: неполный рабочий день ($μ_1$), полный рабочий день ($μ_2$), контракт ($μ_3$)б фриланс ($μ_4$).\n",
    "\n",
    "$$ H_0 : μ_1 = μ_2 = μ_3 = μ_4$$\n",
    "\n",
    "*Альтернативная гипотеза*: размер зарплат специалистов Data Scientist отличается в зависимости от типа трудоустройства: неполный рабочий день ($μ_1$), полный рабочий день ($μ_2$), контракт ($μ_3$)б фриланс ($μ_4$).\n",
    "\n",
    "$$ H_1 : μ_1 \\neq μ_2 \\neq μ_3 \\neq μ_4$$"
   ]
  },
  {
   "cell_type": "markdown",
   "metadata": {},
   "source": [
    "**Проверка на нормальность**\n",
    "\n",
    "С помощью теста Шапиро-Уилка проверим, распределён ли признак нормально."
   ]
  },
  {
   "cell_type": "code",
   "execution_count": 34,
   "metadata": {},
   "outputs": [
    {
     "name": "stdout",
     "output_type": "stream",
     "text": [
      "Неполный рабочий день:\n",
      "p-value = 0.023\n",
      "p-значение меньше, чем заданный уровень значимости 0.05. Распределение отлично от нормального\n",
      "Полный рабочий день::\n",
      "p-value = 0.000\n",
      "p-значение меньше, чем заданный уровень значимости 0.05. Распределение отлично от нормального\n",
      "Контракт:\n",
      "p-value = 0.406\n",
      "p-значение больше, чем заданный уровень значимости 0.05. Распределение является нормальным\n",
      "Фриланс:\n",
      "p-value = 0.507\n",
      "p-значение больше, чем заданный уровень значимости 0.05. Распределение является нормальным\n"
     ]
    }
   ],
   "source": [
    "# значения зарплат в зависимости от типа трудоустройства\n",
    "salary_employment_type_pt = df.loc[data['employment_type']=='PT', 'salary_in_usd']\n",
    "salary_employment_type_ft = df.loc[data['employment_type']=='FT', 'salary_in_usd']\n",
    "salary_employment_type_ct = df.loc[data['employment_type']=='CT', 'salary_in_usd']\n",
    "salary_employment_type_fl = df.loc[data['employment_type']=='FL', 'salary_in_usd']\n",
    "\n",
    "#display(salary_employment_type_pt)\n",
    "\n",
    "# проводим тест Шапиро-Уилка\n",
    "print('Неполный рабочий день:')\n",
    "result = stats.shapiro(salary_employment_type_pt)\n",
    "decision_normality(result[1])\n",
    "\n",
    "print('Полный рабочий день::')\n",
    "result = stats.shapiro(salary_employment_type_ft)\n",
    "decision_normality(result[1])\n",
    "\n",
    "print('Контракт:')\n",
    "result = stats.shapiro(salary_employment_type_ct)\n",
    "decision_normality(result[1])\n",
    "\n",
    "print('Фриланс:')\n",
    "result = stats.shapiro(salary_employment_type_fl)\n",
    "decision_normality(result[1])"
   ]
  },
  {
   "cell_type": "markdown",
   "metadata": {},
   "source": [
    "**Выберем подходящий статистический тест**\n",
    "\n",
    "Для выбора нужного теста воспользуемся алгоритмом выбора теста. Для этого ответим на следующие вопросы:\n",
    "* Какой тип у признака «Зарплата в долларах США»? — Количественный.\n",
    "* Сколько сравниваемых групп? — Четыре.\n",
    "* Группы зависимы? — Нет.\n",
    "* Признак распределён по нормальному закону? — Нет (для типов трудоустройства \"контракт\" и \"фриланс\" тест показал нормальное распределение, возможно, это связано с малым размером выборки для данных случаев). \n",
    "\n",
    "Для проверки нашей гипотезы можно использовать критерий Краскела — Уоллиса.\n",
    "\n",
    "**Проведём тест**"
   ]
  },
  {
   "cell_type": "code",
   "execution_count": 35,
   "metadata": {},
   "outputs": [
    {
     "name": "stdout",
     "output_type": "stream",
     "text": [
      "p-value = 0.000\n",
      "p-значение меньше, чем заданный уровень значимости 0.05. Отвергаем нулевую гипотезу в пользу альтернативной.\n"
     ]
    }
   ],
   "source": [
    "# проводим тест\n",
    "_, p = stats.kruskal(salary_employment_type_pt, salary_employment_type_ft, salary_employment_type_ct, salary_employment_type_fl)\n",
    "decision_hypothesis(p)"
   ]
  },
  {
   "cell_type": "markdown",
   "metadata": {},
   "source": [
    "**Вывод**\n",
    "\n",
    "Статистический тест показал, что тип трудоустройства влияет на зарплату специалистов Data Science."
   ]
  },
  {
   "cell_type": "markdown",
   "metadata": {
    "id": "weubXekLfsQX"
   },
   "source": [
    "## Итоговые результаты исследования\n",
    "\n",
    "Статистические тесты, в основном, подтвердили предварительные выводы, сделанные из визуальной оценки признаков.\n",
    "\n",
    "* Есть ежегодный рост зарплат у специалистов Data Scientist.\n",
    "* Зарплаты Data Scientist не превышали зарплаты Data Engineer в 2022 году (на графике было заметно небольшое превышение, но тест показал, что оно не имеет статистической значимости).\n",
    "* Распределения зарплат в компаниях различных размеров отличаются (чем больше компания, тем больше зарплата). Это было подтверждено статистическими тестами.\n",
    "* Тесты показали, что размер компании влияет на наличие должностей Data Scientist и Data Engineer.\n",
    "\n",
    "Дополнительные исследования:\n",
    "\n",
    "* Взаимосвязь между размером зарплаты и объемом работы, выполняемой удаленно, существует. Это было подтверждено статистическими тестами.\n",
    "* Взаимосвязь между размером зарплаты и типом трудоустройства также существует. Это было подтверждено статистическими тестами. Возможно, основной вклад в различия вносят \"контракт\" и фриланс\". Можно провести отдельные исследования, получив большую выборку специалистов с данным типом трудоустройства. "
   ]
  }
 ],
 "metadata": {
  "colab": {
   "provenance": []
  },
  "kernelspec": {
   "display_name": "Python 3",
   "language": "python",
   "name": "python3"
  },
  "language_info": {
   "codemirror_mode": {
    "name": "ipython",
    "version": 3
   },
   "file_extension": ".py",
   "mimetype": "text/x-python",
   "name": "python",
   "nbconvert_exporter": "python",
   "pygments_lexer": "ipython3",
   "version": "3.13.0"
  }
 },
 "nbformat": 4,
 "nbformat_minor": 0
}
